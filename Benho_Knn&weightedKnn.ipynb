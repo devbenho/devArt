{
  "nbformat": 4,
  "nbformat_minor": 0,
  "metadata": {
    "colab": {
      "provenance": [],
      "collapsed_sections": [],
      "include_colab_link": true
    },
    "kernelspec": {
      "name": "python3",
      "display_name": "Python 3"
    },
    "language_info": {
      "name": "python"
    }
  },
  "cells": [
    {
      "cell_type": "markdown",
      "metadata": {
        "id": "view-in-github",
        "colab_type": "text"
      },
      "source": [
        "<a href=\"https://colab.research.google.com/github/devbenho/devArt/blob/main/Benho_Knn%26weightedKnn.ipynb\" target=\"_parent\"><img src=\"https://colab.research.google.com/assets/colab-badge.svg\" alt=\"Open In Colab\"/></a>"
      ]
    },
    {
      "cell_type": "code",
      "execution_count": 6,
      "metadata": {
        "id": "xpPGezxR_SA0"
      },
      "outputs": [],
      "source": [
        "from sklearn.model_selection import train_test_split\n",
        "from sklearn.neighbors import KNeighborsClassifier\n",
        "from sklearn.metrics import accuracy_score\n",
        "from sklearn.model_selection import StratifiedKFold\n",
        "import pandas as pd"
      ]
    },
    {
      "cell_type": "code",
      "source": [
        "ds = pd.read_csv('/content/Gas_Sensors_Measurements.csv')"
      ],
      "metadata": {
        "id": "0KFyJmx83L3V"
      },
      "execution_count": 9,
      "outputs": []
    },
    {
      "cell_type": "code",
      "source": [
        "input = ds.iloc[:, [0,6]].values\n",
        "output = ds.iloc[:, 7].values \n",
        "\n",
        "train_in, test_in, train_out, test_out = train_test_split(input, output, train_size=0.7, test_size=0.3, random_state = 42)"
      ],
      "metadata": {
        "id": "avBDmzwa3eYP"
      },
      "execution_count": 13,
      "outputs": []
    },
    {
      "cell_type": "code",
      "source": [
        "knn = KNeighborsClassifier(n_neighbors = 5)\n",
        "knn.fit(train_in, train_out)\n",
        "\n",
        "pred_out = knn.predict(test_in)\n",
        "knn_accuracy = accuracy_score(test_out, pred_out) "
      ],
      "metadata": {
        "id": "ALNccpal31uy"
      },
      "execution_count": 14,
      "outputs": []
    },
    {
      "cell_type": "code",
      "source": [
        "weighted_knn = KNeighborsClassifier(n_neighbors = 5, metric='euclidean', weights='distance')\n",
        "weighted_knn.fit(train_in, train_out)\n",
        "\n",
        "pred_out = weighted_knn.predict(test_in)\n",
        "weighted_knn_accuracy = accuracy_score(test_out, pred_out)\n"
      ],
      "metadata": {
        "id": "AYz_M-fs4bys"
      },
      "execution_count": 15,
      "outputs": []
    },
    {
      "cell_type": "code",
      "source": [
        "print(\"KNN Accuracy = \", knn_accuracy*100, \"%\")\n",
        "print(\"W-KNN Accuracy = \", weighted_knn_accuracy*100, \"%\")"
      ],
      "metadata": {
        "colab": {
          "base_uri": "https://localhost:8080/"
        },
        "id": "TXUBQ7zJ5Uag",
        "outputId": "c9c2cd39-40a3-490c-ccf0-7fa81d89b9f0"
      },
      "execution_count": 22,
      "outputs": [
        {
          "output_type": "stream",
          "name": "stdout",
          "text": [
            "KNN Accuracy =  85.98958333333333 %\n",
            "W-KNN Accuracy =  86.71875 %\n"
          ]
        }
      ]
    },
    {
      "cell_type": "code",
      "source": [
        "num_splits = 5 \n",
        "kfold = StratifiedKFold(num_splits, shuffle= True, random_state = 1)\n",
        "\n",
        "knn_test_accuracy = []     \n",
        "weighted_test_accuracy = []"
      ],
      "metadata": {
        "id": "EZHdrfx15bXo"
      },
      "execution_count": 17,
      "outputs": []
    },
    {
      "cell_type": "code",
      "source": [
        "for train_index, test_index in kfold.split(input, output):  \n",
        "    train_in, test_in = input[train_index], input[test_index]  \n",
        "    train_out,test_out = output[train_index], output[test_index]\n",
        "  \n",
        "    #knn\n",
        "    knn.fit(train_in, train_out)\n",
        "    pred_out = knn.predict(test_in)\n",
        "    accuracy = accuracy_score(test_out, pred_out)\n",
        "    knn_test_accuracy.append(accuracy * 100)\n",
        "\n",
        "    #weighted knn\n",
        "    weighted_knn.fit(train_in, train_out)\n",
        "    pred_out = weighted_knn.predict(test_in)\n",
        "    accuracy = accuracy_score(test_out, pred_out)\n",
        "    weighted_test_accuracy.append(accuracy * 100)"
      ],
      "metadata": {
        "id": "7qc_SFn95jcz"
      },
      "execution_count": 19,
      "outputs": []
    },
    {
      "cell_type": "code",
      "source": [
        "sum1 = sum2 = avg1 = avg2 = 0\n",
        "for i in range(num_splits):\n",
        "    sum1 += knn_test_accuracy[i]\n",
        "    sum2 += weighted_test_accuracy[i]\n",
        "\n",
        "avg1 = sum1 / num_splits\n",
        "avg2 = sum2 / num_splits\n",
        "\n",
        "print(\"\\nThe average of KNN [ cross validation ] \", avg2, \"%\")\n",
        "print(\"The average of weighted KNN [ cross validation ] \", avg2, \"%\")"
      ],
      "metadata": {
        "colab": {
          "base_uri": "https://localhost:8080/"
        },
        "id": "ZsacJ-P16dEg",
        "outputId": "6856ec6c-afda-46ed-e170-e4193bebd3fd"
      },
      "execution_count": 21,
      "outputs": [
        {
          "output_type": "stream",
          "name": "stdout",
          "text": [
            "\n",
            "The average of KNN by using cross validation is:  85.625 %\n",
            "The average of weighted KNN by using cross validation is:  85.625 %\n"
          ]
        }
      ]
    }
  ]
}